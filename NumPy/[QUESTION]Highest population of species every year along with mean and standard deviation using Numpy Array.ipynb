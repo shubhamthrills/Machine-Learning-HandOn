{
 "cells": [
  {
   "cell_type": "markdown",
   "metadata": {},
   "source": [
    "Problem related to NumPy\n",
    "--\n",
    "Question: From the above data find (A) Mean Population over the time (B) Standard Deviation (C) Which Species has the highest population each year?"
   ]
  },
  {
   "cell_type": "markdown",
   "metadata": {},
   "source": [
    "About DataSet\n",
    "-------------\n",
    "Data (in populations.txt) describes the populations of hares, lynxes and carrots during 20 years."
   ]
  },
  {
   "cell_type": "code",
   "execution_count": 2,
   "metadata": {},
   "outputs": [],
   "source": [
    "import numpy as np #Importing NumPy Library\n",
    "data_set = np.loadtxt('populations.txt') #loading data into numpy array named data_set"
   ]
  },
  {
   "cell_type": "code",
   "execution_count": 3,
   "metadata": {},
   "outputs": [
    {
     "data": {
      "text/plain": [
       "array([[ 1900., 30000.,  4000., 48300.],\n",
       "       [ 1901., 47200.,  6100., 48200.],\n",
       "       [ 1902., 70200.,  9800., 41500.],\n",
       "       [ 1903., 77400., 35200., 38200.],\n",
       "       [ 1904., 36300., 59400., 40600.],\n",
       "       [ 1905., 20600., 41700., 39800.],\n",
       "       [ 1906., 18100., 19000., 38600.],\n",
       "       [ 1907., 21400., 13000., 42300.],\n",
       "       [ 1908., 22000.,  8300., 44500.],\n",
       "       [ 1909., 25400.,  9100., 42100.],\n",
       "       [ 1910., 27100.,  7400., 46000.],\n",
       "       [ 1911., 40300.,  8000., 46800.],\n",
       "       [ 1912., 57000., 12300., 43800.],\n",
       "       [ 1913., 76600., 19500., 40900.],\n",
       "       [ 1914., 52300., 45700., 39400.],\n",
       "       [ 1915., 19500., 51100., 39000.],\n",
       "       [ 1916., 11200., 29700., 36700.],\n",
       "       [ 1917.,  7600., 15800., 41800.],\n",
       "       [ 1918., 14600.,  9700., 43300.],\n",
       "       [ 1919., 16200., 10100., 41300.],\n",
       "       [ 1920., 24700.,  8600., 47300.]])"
      ]
     },
     "execution_count": 3,
     "metadata": {},
     "output_type": "execute_result"
    }
   ],
   "source": [
    "data_set #Viewing imported data using array named data_set"
   ]
  },
  {
   "cell_type": "code",
   "execution_count": 22,
   "metadata": {},
   "outputs": [],
   "source": [
    "year, hares, lynxes, carrots = data_set.T #columns to variables\n",
    "#print(year)"
   ]
  },
  {
   "cell_type": "code",
   "execution_count": 20,
   "metadata": {},
   "outputs": [
    {
     "name": "stdout",
     "output_type": "stream",
     "text": [
      "Mean is : 32215.873015873014\n"
     ]
    }
   ],
   "source": [
    "#The mean population over time\n",
    "populations = data_set[:, 1:]\n",
    "#print(populations)\n",
    "m_p=populations.mean()\n",
    "print(\"Mean is :\",m_p)"
   ]
  },
  {
   "cell_type": "code",
   "execution_count": 19,
   "metadata": {},
   "outputs": [
    {
     "name": "stdout",
     "output_type": "stream",
     "text": [
      "Standard Deviation of Hares is : 20897.906458089667\n",
      "Standard Deviation of Lynxes is : 16254.591536908763\n",
      "Standard Deviation of Carrots is : 3322.5062255844787\n"
     ]
    }
   ],
   "source": [
    "#sample standard deviations\n",
    "l=populations.std(axis=0) #axis=0 means compute column wise\n",
    "for i in range (len(l)):\n",
    "    if (i==0):\n",
    "        print(\"Standard Deviation of Hares is :\",l[i])\n",
    "    if (i==1):\n",
    "        print(\"Standard Deviation of Lynxes is :\",l[i])\n",
    "    if (i==2):\n",
    "        print(\"Standard Deviation of Carrots is :\",l[i])"
   ]
  },
  {
   "cell_type": "code",
   "execution_count": 18,
   "metadata": {},
   "outputs": [
    {
     "name": "stdout",
     "output_type": "stream",
     "text": [
      "In Year: 1900 ,Highest Population of CARROTS is maximum\n",
      "In Year: 1901 ,Highest Population of CARROTS is maximum\n",
      "In Year: 1902 ,Highest Population of HARES is maximum\n",
      "In Year: 1903 ,Highest Population of HARES is maximum\n",
      "In Year: 1904 ,Highest Population of LYNXES is maximum\n",
      "In Year: 1905 ,Highest Population of LYNXES is maximum\n",
      "In Year: 1906 ,Highest Population of CARROTS is maximum\n",
      "In Year: 1907 ,Highest Population of CARROTS is maximum\n",
      "In Year: 1908 ,Highest Population of CARROTS is maximum\n",
      "In Year: 1909 ,Highest Population of CARROTS is maximum\n",
      "In Year: 1910 ,Highest Population of CARROTS is maximum\n",
      "In Year: 1911 ,Highest Population of CARROTS is maximum\n",
      "In Year: 1912 ,Highest Population of HARES is maximum\n",
      "In Year: 1913 ,Highest Population of HARES is maximum\n",
      "In Year: 1914 ,Highest Population of HARES is maximum\n",
      "In Year: 1915 ,Highest Population of LYNXES is maximum\n",
      "In Year: 1916 ,Highest Population of CARROTS is maximum\n",
      "In Year: 1917 ,Highest Population of CARROTS is maximum\n",
      "In Year: 1918 ,Highest Population of CARROTS is maximum\n",
      "In Year: 1919 ,Highest Population of CARROTS is maximum\n",
      "In Year: 1920 ,Highest Population of CARROTS is maximum\n"
     ]
    }
   ],
   "source": [
    "#which species has the highest population each year?\n",
    "y=1900\n",
    "res=np.argmax(populations, axis=1)\n",
    "for i in range (len(res)):\n",
    "    if(res[i]==0):\n",
    "        print(\"In Year:\",y+i,\",Highest Population of HARES is maximum\")\n",
    "    if(res[i]==1):\n",
    "        print(\"In Year:\",y+i,\",Highest Population of LYNXES is maximum\")\n",
    "    if(res[i]==2):\n",
    "        print(\"In Year:\",y+i,\",Highest Population of CARROTS is maximum\")"
   ]
  },
  {
   "cell_type": "markdown",
   "metadata": {},
   "source": [
    "### Thanks, \n",
    "\n",
    "### Shubham Sagar\n",
    "\n",
    "### DM for any assist: www.instagaram.com/shubhamthrills"
   ]
  }
 ],
 "metadata": {
  "kernelspec": {
   "display_name": "Python 3",
   "language": "python",
   "name": "python3"
  },
  "language_info": {
   "codemirror_mode": {
    "name": "ipython",
    "version": 3
   },
   "file_extension": ".py",
   "mimetype": "text/x-python",
   "name": "python",
   "nbconvert_exporter": "python",
   "pygments_lexer": "ipython3",
   "version": "3.7.4"
  }
 },
 "nbformat": 4,
 "nbformat_minor": 2
}

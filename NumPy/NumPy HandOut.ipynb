{
 "cells": [
  {
   "cell_type": "markdown",
   "metadata": {},
   "source": [
    "# NumPy HandOut"
   ]
  },
  {
   "cell_type": "markdown",
   "metadata": {},
   "source": [
    "### Question 1: Make an array of 100 element and increase individual item with 1"
   ]
  },
  {
   "cell_type": "code",
   "execution_count": 1,
   "metadata": {},
   "outputs": [],
   "source": [
    "import numpy as np"
   ]
  },
  {
   "cell_type": "code",
   "execution_count": 2,
   "metadata": {},
   "outputs": [
    {
     "data": {
      "text/plain": [
       "array([232, 232, 453, 134, 594, 629, 816, 660, 386, 576, 196, 905,  62,\n",
       "       568, 275, 609, 165, 100, 932, 705, 453, 980, 105, 384, 505, 533,\n",
       "       496, 667, 631, 280, 902, 842, 378, 242, 463, 248, 590, 445, 148,\n",
       "       768, 149, 693, 905, 279, 711, 440, 643, 820,  46, 825, 147, 965,\n",
       "       182, 657, 361, 535, 762, 661, 434, 173, 361, 656, 927, 636, 384,\n",
       "       946, 368, 424, 180, 468, 524, 457, 493, 303, 795, 780, 516, 593,\n",
       "       798, 132, 800, 478, 611, 932, 167, 905, 563, 113, 108, 758, 288,\n",
       "        90, 266,  14, 135, 332, 178, 181, 529, 593])"
      ]
     },
     "execution_count": 2,
     "metadata": {},
     "output_type": "execute_result"
    }
   ],
   "source": [
    "a=np.random.randint(1,1000,100)\n",
    "a"
   ]
  },
  {
   "cell_type": "code",
   "execution_count": 3,
   "metadata": {},
   "outputs": [
    {
     "data": {
      "text/plain": [
       "array([233, 233, 454, 135, 595, 630, 817, 661, 387, 577, 197, 906,  63,\n",
       "       569, 276, 610, 166, 101, 933, 706, 454, 981, 106, 385, 506, 534,\n",
       "       497, 668, 632, 281, 903, 843, 379, 243, 464, 249, 591, 446, 149,\n",
       "       769, 150, 694, 906, 280, 712, 441, 644, 821,  47, 826, 148, 966,\n",
       "       183, 658, 362, 536, 763, 662, 435, 174, 362, 657, 928, 637, 385,\n",
       "       947, 369, 425, 181, 469, 525, 458, 494, 304, 796, 781, 517, 594,\n",
       "       799, 133, 801, 479, 612, 933, 168, 906, 564, 114, 109, 759, 289,\n",
       "        91, 267,  15, 136, 333, 179, 182, 530, 594])"
      ]
     },
     "execution_count": 3,
     "metadata": {},
     "output_type": "execute_result"
    }
   ],
   "source": [
    "a=a+1\n",
    "a"
   ]
  },
  {
   "cell_type": "markdown",
   "metadata": {},
   "source": [
    "### Question 2:Define a array of 10 continous elements and then Square every elemnts present in that "
   ]
  },
  {
   "cell_type": "code",
   "execution_count": 4,
   "metadata": {},
   "outputs": [
    {
     "data": {
      "text/plain": [
       "array([1, 2, 3, 4, 5, 6, 7, 8, 9])"
      ]
     },
     "execution_count": 4,
     "metadata": {},
     "output_type": "execute_result"
    }
   ],
   "source": [
    "b=np.arange(1,10)\n",
    "b"
   ]
  },
  {
   "cell_type": "code",
   "execution_count": 5,
   "metadata": {},
   "outputs": [
    {
     "data": {
      "text/plain": [
       "array([ 1,  4,  9, 16, 25, 36, 49, 64, 81], dtype=int32)"
      ]
     },
     "execution_count": 5,
     "metadata": {},
     "output_type": "execute_result"
    }
   ],
   "source": [
    "b=b**2\n",
    "b"
   ]
  },
  {
   "cell_type": "markdown",
   "metadata": {},
   "source": [
    "### Question 3:Make an 2D-array having size 3X3 with diagonal elemnts as 1,2,3 and then subtract 1 from every element ?"
   ]
  },
  {
   "cell_type": "code",
   "execution_count": 13,
   "metadata": {},
   "outputs": [
    {
     "name": "stdout",
     "output_type": "stream",
     "text": [
      "[[1 0 0]\n",
      " [0 2 0]\n",
      " [0 0 3]]\n",
      "[[1. 1. 1.]\n",
      " [1. 1. 1.]\n",
      " [1. 1. 1.]]\n",
      "[[ 0. -1. -1.]\n",
      " [-1.  1. -1.]\n",
      " [-1. -1.  2.]]\n"
     ]
    }
   ],
   "source": [
    "c=np.diag([1,2,3])\n",
    "d=np.ones((3,3))\n",
    "print(c)\n",
    "print(d)\n",
    "c=c-d\n",
    "print(c)"
   ]
  },
  {
   "cell_type": "markdown",
   "metadata": {},
   "source": [
    "### Question 4: Make 2 matrix and multiply both matrix and then calculate dot product values?"
   ]
  },
  {
   "cell_type": "code",
   "execution_count": 17,
   "metadata": {},
   "outputs": [
    {
     "name": "stdout",
     "output_type": "stream",
     "text": [
      "[ 1  4  9 16]\n",
      "*******\n",
      "30\n"
     ]
    }
   ],
   "source": [
    "e=np.array([1,2,3,4])\n",
    "f=np.array([1,2,3,4])\n",
    "print(e*f)\n",
    "print(\"*******\")\n",
    "print(e.dot(f))\n"
   ]
  },
  {
   "cell_type": "markdown",
   "metadata": {},
   "source": [
    "### Question 5: Compare two array elements? (A) Equal(Every element (B) > (C) Exactly equal"
   ]
  },
  {
   "cell_type": "code",
   "execution_count": 18,
   "metadata": {},
   "outputs": [
    {
     "name": "stdout",
     "output_type": "stream",
     "text": [
      "[57 91 98 62]\n",
      "[24  4  8 92]\n"
     ]
    }
   ],
   "source": [
    "g=np.random.randint(1,100,4)\n",
    "h=np.random.randint(1,100,4)\n",
    "print(g)\n",
    "print(h)"
   ]
  },
  {
   "cell_type": "code",
   "execution_count": 19,
   "metadata": {},
   "outputs": [
    {
     "data": {
      "text/plain": [
       "array([False, False, False, False])"
      ]
     },
     "execution_count": 19,
     "metadata": {},
     "output_type": "execute_result"
    }
   ],
   "source": [
    "g==h #Compare each element is satisfying every element"
   ]
  },
  {
   "cell_type": "code",
   "execution_count": 20,
   "metadata": {},
   "outputs": [
    {
     "data": {
      "text/plain": [
       "array([ True,  True,  True, False])"
      ]
     },
     "execution_count": 20,
     "metadata": {},
     "output_type": "execute_result"
    }
   ],
   "source": [
    "g>h #Compare each element is satisfying every element"
   ]
  },
  {
   "cell_type": "code",
   "execution_count": 22,
   "metadata": {},
   "outputs": [
    {
     "data": {
      "text/plain": [
       "False"
      ]
     },
     "execution_count": 22,
     "metadata": {},
     "output_type": "execute_result"
    }
   ],
   "source": [
    "np.array_equal(g,h) # Best way to compare two array's element"
   ]
  },
  {
   "cell_type": "markdown",
   "metadata": {},
   "source": [
    "### Question 6: Make 2 array of bollen type and do following operations: (A) OR  (B)  AND"
   ]
  },
  {
   "cell_type": "code",
   "execution_count": 2,
   "metadata": {},
   "outputs": [],
   "source": [
    "a=np.array([1,0,1,1], dtype=bool)\n",
    "b=np.array([0,0,1,0], dtype=bool)"
   ]
  },
  {
   "cell_type": "code",
   "execution_count": 3,
   "metadata": {},
   "outputs": [
    {
     "data": {
      "text/plain": [
       "array([ True, False,  True,  True])"
      ]
     },
     "execution_count": 3,
     "metadata": {},
     "output_type": "execute_result"
    }
   ],
   "source": [
    "np.logical_or(a,b)"
   ]
  },
  {
   "cell_type": "code",
   "execution_count": 4,
   "metadata": {},
   "outputs": [
    {
     "data": {
      "text/plain": [
       "array([False, False,  True, False])"
      ]
     },
     "execution_count": 4,
     "metadata": {},
     "output_type": "execute_result"
    }
   ],
   "source": [
    "np.logical_and(a,b)"
   ]
  },
  {
   "cell_type": "markdown",
   "metadata": {},
   "source": [
    "### Question 7: Make an array and do following operations: (A) summation (B) summation Row wise (C) summation Column wise "
   ]
  },
  {
   "cell_type": "code",
   "execution_count": 5,
   "metadata": {},
   "outputs": [
    {
     "data": {
      "text/plain": [
       "10"
      ]
     },
     "execution_count": 5,
     "metadata": {},
     "output_type": "execute_result"
    }
   ],
   "source": [
    "a=np.array([1,2,3,4])\n",
    "np.sum(a)"
   ]
  },
  {
   "cell_type": "code",
   "execution_count": 12,
   "metadata": {},
   "outputs": [
    {
     "name": "stdout",
     "output_type": "stream",
     "text": [
      "[ 6  8 10 12]\n",
      "[10 26]\n",
      "36\n"
     ]
    }
   ],
   "source": [
    "a=np.array([[1,2,3,4],[5,6,7,8]])\n",
    "print(a.sum(axis=0))\n",
    "print(a.sum(axis=1))\n",
    "print(a.sum())"
   ]
  },
  {
   "cell_type": "markdown",
   "metadata": {},
   "source": [
    "### Question 8: Make an array and do find: (A) Minimum Element (B) Maximum element (C) Index of minimum element (D) Index of maximum element "
   ]
  },
  {
   "cell_type": "code",
   "execution_count": 14,
   "metadata": {},
   "outputs": [
    {
     "data": {
      "text/plain": [
       "array([4928,  386, 2206, 3353, 7349, 8131, 7468, 1800, 1218, 7446, 4264,\n",
       "       5904, 7897, 7818, 9987, 2111, 2155, 8488, 7848, 5738, 1364, 1707,\n",
       "       6601,  418, 4454, 5768, 9359, 2590, 4755, 8587, 9282, 7203, 7393,\n",
       "       1084, 4059, 7845, 1551, 1688, 8190, 5506,  516, 8213, 7141,  849,\n",
       "       2416, 4822, 9010,  257, 9682, 2333,  287, 5517, 1690, 7655, 7584,\n",
       "       1425,  943, 4449, 6034,  401, 8442, 9109, 3015, 6924, 4870, 7125,\n",
       "       2083, 1145, 9038, 8099, 4146, 2003, 3191, 1840,  522, 8589, 8454,\n",
       "       4944, 7405, 4701, 5139,  299, 1034,  787, 4573,  872, 2439, 4152,\n",
       "       2242,   23, 2716, 7633, 8514, 7919, 9719, 6937, 9739, 5585,  585,\n",
       "       7127])"
      ]
     },
     "execution_count": 14,
     "metadata": {},
     "output_type": "execute_result"
    }
   ],
   "source": [
    "a=np.random.randint(1,10000,100)\n",
    "a"
   ]
  },
  {
   "cell_type": "code",
   "execution_count": 15,
   "metadata": {},
   "outputs": [
    {
     "name": "stdout",
     "output_type": "stream",
     "text": [
      "9987\n",
      "23\n",
      "14\n",
      "89\n"
     ]
    }
   ],
   "source": [
    "print(a.max())\n",
    "print(a.min())\n",
    "print(a.argmax())\n",
    "print(a.argmin())"
   ]
  },
  {
   "cell_type": "markdown",
   "metadata": {},
   "source": [
    "### Question 9: Make 2D array and check wether it is a zero matrix or not?"
   ]
  },
  {
   "cell_type": "code",
   "execution_count": 18,
   "metadata": {},
   "outputs": [
    {
     "data": {
      "text/plain": [
       "array([[0., 0., 0., 0., 0.],\n",
       "       [0., 0., 0., 0., 0.],\n",
       "       [0., 0., 0., 0., 0.],\n",
       "       [0., 0., 0., 0., 0.],\n",
       "       [0., 0., 0., 0., 0.]])"
      ]
     },
     "execution_count": 18,
     "metadata": {},
     "output_type": "execute_result"
    }
   ],
   "source": [
    "a=np.zeros((5,5))\n",
    "a"
   ]
  },
  {
   "cell_type": "code",
   "execution_count": 19,
   "metadata": {},
   "outputs": [
    {
     "name": "stdout",
     "output_type": "stream",
     "text": [
      "False\n",
      "True\n"
     ]
    }
   ],
   "source": [
    "print(np.any(a!=0))\n",
    "#or\n",
    "print(np.all(a==0))"
   ]
  },
  {
   "cell_type": "markdown",
   "metadata": {},
   "source": [
    "### Thanks, \n",
    "\n",
    "### Shubham Sagar\n",
    "\n",
    "### DM for any assist: www.instagaram.com/shubhamthrills"
   ]
  }
 ],
 "metadata": {
  "kernelspec": {
   "display_name": "Python 3",
   "language": "python",
   "name": "python3"
  },
  "language_info": {
   "codemirror_mode": {
    "name": "ipython",
    "version": 3
   },
   "file_extension": ".py",
   "mimetype": "text/x-python",
   "name": "python",
   "nbconvert_exporter": "python",
   "pygments_lexer": "ipython3",
   "version": "3.7.4"
  }
 },
 "nbformat": 4,
 "nbformat_minor": 2
}
